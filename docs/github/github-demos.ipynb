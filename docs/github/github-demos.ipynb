{
 "cells": [
  {
   "cell_type": "markdown",
   "source": [
    "# Github3 Demos\n",
    "\n",
    "- [github3.py](https://github.com/sigmavirus24/github3.py.git)"
   ],
   "metadata": {
    "collapsed": false
   }
  },
  {
   "cell_type": "code",
   "execution_count": 8,
   "metadata": {
    "collapsed": true
   },
   "outputs": [
    {
     "name": "stdout",
     "output_type": "stream",
     "text": [
      "<GitHub [basic username]>\n",
      "qdriven\n"
     ]
    }
   ],
   "source": [
    "import github3\n",
    "gh = github3.login('username', 'password')\n",
    "print(gh)\n",
    "# for repository in gh.all_repositories():\n",
    "#     print('{0} - id: {0.id}, url: {0.html_url}'.format(repository))\n",
    "print(gh.user(username=\"qdriven\"))\n",
    "repo = github3.repository('sigmavirus24', 'github3.py')\n",
    "contents = repo.file_contents('github3/repos/contents.py')\n"
   ]
  }
 ],
 "metadata": {
  "kernelspec": {
   "display_name": "Python 3",
   "language": "python",
   "name": "python3"
  },
  "language_info": {
   "codemirror_mode": {
    "name": "ipython",
    "version": 2
   },
   "file_extension": ".py",
   "mimetype": "text/x-python",
   "name": "python",
   "nbconvert_exporter": "python",
   "pygments_lexer": "ipython2",
   "version": "2.7.6"
  }
 },
 "nbformat": 4,
 "nbformat_minor": 0
}
